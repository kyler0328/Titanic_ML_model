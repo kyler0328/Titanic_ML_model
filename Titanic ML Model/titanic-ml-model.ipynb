{
 "cells": [
  {
   "cell_type": "code",
   "execution_count": 1,
   "id": "abroad-services",
   "metadata": {
    "_cell_guid": "b1076dfc-b9ad-4769-8c92-a6c4dae69d19",
    "_uuid": "8f2839f25d086af736a60e9eeb907d3b93b6e0e5",
    "execution": {
     "iopub.execute_input": "2021-06-15T14:24:29.068973Z",
     "iopub.status.busy": "2021-06-15T14:24:29.067695Z",
     "iopub.status.idle": "2021-06-15T14:24:29.081338Z",
     "shell.execute_reply": "2021-06-15T14:24:29.082199Z",
     "shell.execute_reply.started": "2021-06-15T14:23:06.072222Z"
    },
    "papermill": {
     "duration": 0.045182,
     "end_time": "2021-06-15T14:24:29.082621",
     "exception": false,
     "start_time": "2021-06-15T14:24:29.037439",
     "status": "completed"
    },
    "tags": []
   },
   "outputs": [
    {
     "name": "stdout",
     "output_type": "stream",
     "text": [
      "/kaggle/input/titanic/train.csv\n",
      "/kaggle/input/titanic/test.csv\n",
      "/kaggle/input/titanic/gender_submission.csv\n"
     ]
    }
   ],
   "source": [
    "# This Python 3 environment comes with many helpful analytics libraries installed\n",
    "# It is defined by the kaggle/python Docker image: https://github.com/kaggle/docker-python\n",
    "# For example, here's several helpful packages to load\n",
    "\n",
    "import numpy as np # linear algebra\n",
    "import pandas as pd # data processing, CSV file I/O (e.g. pd.read_csv)\n",
    "\n",
    "# Input data files are available in the read-only \"../input/\" directory\n",
    "# For example, running this (by clicking run or pressing Shift+Enter) will list all files under the input directory\n",
    "\n",
    "import os\n",
    "for dirname, _, filenames in os.walk('/kaggle/input'):\n",
    "    for filename in filenames:\n",
    "        print(os.path.join(dirname, filename))\n",
    "\n",
    "# You can write up to 20GB to the current directory (/kaggle/working/) that gets preserved as output when you create a version using \"Save & Run All\" \n",
    "# You can also write temporary files to /kaggle/temp/, but they won't be saved outside of the current session"
   ]
  },
  {
   "cell_type": "code",
   "execution_count": 2,
   "id": "indie-zoning",
   "metadata": {
    "execution": {
     "iopub.execute_input": "2021-06-15T14:24:29.137571Z",
     "iopub.status.busy": "2021-06-15T14:24:29.136761Z",
     "iopub.status.idle": "2021-06-15T14:24:29.169674Z",
     "shell.execute_reply": "2021-06-15T14:24:29.168905Z",
     "shell.execute_reply.started": "2021-06-15T14:23:06.083854Z"
    },
    "papermill": {
     "duration": 0.061073,
     "end_time": "2021-06-15T14:24:29.169874",
     "exception": false,
     "start_time": "2021-06-15T14:24:29.108801",
     "status": "completed"
    },
    "tags": []
   },
   "outputs": [],
   "source": [
    "train_df = pd.read_csv('/kaggle/input/titanic/train.csv')\n",
    "test_df = pd.read_csv('/kaggle/input/titanic/test.csv')\n",
    "combine = [train_df, test_df]"
   ]
  },
  {
   "cell_type": "code",
   "execution_count": 3,
   "id": "differential-missouri",
   "metadata": {
    "execution": {
     "iopub.execute_input": "2021-06-15T14:24:29.232993Z",
     "iopub.status.busy": "2021-06-15T14:24:29.230933Z",
     "iopub.status.idle": "2021-06-15T14:24:29.262728Z",
     "shell.execute_reply": "2021-06-15T14:24:29.262134Z",
     "shell.execute_reply.started": "2021-06-15T14:23:06.290533Z"
    },
    "papermill": {
     "duration": 0.067914,
     "end_time": "2021-06-15T14:24:29.262919",
     "exception": false,
     "start_time": "2021-06-15T14:24:29.195005",
     "status": "completed"
    },
    "tags": []
   },
   "outputs": [
    {
     "data": {
      "text/html": [
       "<div>\n",
       "<style scoped>\n",
       "    .dataframe tbody tr th:only-of-type {\n",
       "        vertical-align: middle;\n",
       "    }\n",
       "\n",
       "    .dataframe tbody tr th {\n",
       "        vertical-align: top;\n",
       "    }\n",
       "\n",
       "    .dataframe thead th {\n",
       "        text-align: right;\n",
       "    }\n",
       "</style>\n",
       "<table border=\"1\" class=\"dataframe\">\n",
       "  <thead>\n",
       "    <tr style=\"text-align: right;\">\n",
       "      <th></th>\n",
       "      <th>PassengerId</th>\n",
       "      <th>Survived</th>\n",
       "      <th>Pclass</th>\n",
       "      <th>Name</th>\n",
       "      <th>Sex</th>\n",
       "      <th>Age</th>\n",
       "      <th>SibSp</th>\n",
       "      <th>Parch</th>\n",
       "      <th>Ticket</th>\n",
       "      <th>Fare</th>\n",
       "      <th>Cabin</th>\n",
       "      <th>Embarked</th>\n",
       "    </tr>\n",
       "  </thead>\n",
       "  <tbody>\n",
       "    <tr>\n",
       "      <th>0</th>\n",
       "      <td>1</td>\n",
       "      <td>0</td>\n",
       "      <td>3</td>\n",
       "      <td>Braund, Mr. Owen Harris</td>\n",
       "      <td>male</td>\n",
       "      <td>22.0</td>\n",
       "      <td>1</td>\n",
       "      <td>0</td>\n",
       "      <td>A/5 21171</td>\n",
       "      <td>7.2500</td>\n",
       "      <td>NaN</td>\n",
       "      <td>S</td>\n",
       "    </tr>\n",
       "    <tr>\n",
       "      <th>1</th>\n",
       "      <td>2</td>\n",
       "      <td>1</td>\n",
       "      <td>1</td>\n",
       "      <td>Cumings, Mrs. John Bradley (Florence Briggs Th...</td>\n",
       "      <td>female</td>\n",
       "      <td>38.0</td>\n",
       "      <td>1</td>\n",
       "      <td>0</td>\n",
       "      <td>PC 17599</td>\n",
       "      <td>71.2833</td>\n",
       "      <td>C85</td>\n",
       "      <td>C</td>\n",
       "    </tr>\n",
       "    <tr>\n",
       "      <th>2</th>\n",
       "      <td>3</td>\n",
       "      <td>1</td>\n",
       "      <td>3</td>\n",
       "      <td>Heikkinen, Miss. Laina</td>\n",
       "      <td>female</td>\n",
       "      <td>26.0</td>\n",
       "      <td>0</td>\n",
       "      <td>0</td>\n",
       "      <td>STON/O2. 3101282</td>\n",
       "      <td>7.9250</td>\n",
       "      <td>NaN</td>\n",
       "      <td>S</td>\n",
       "    </tr>\n",
       "    <tr>\n",
       "      <th>3</th>\n",
       "      <td>4</td>\n",
       "      <td>1</td>\n",
       "      <td>1</td>\n",
       "      <td>Futrelle, Mrs. Jacques Heath (Lily May Peel)</td>\n",
       "      <td>female</td>\n",
       "      <td>35.0</td>\n",
       "      <td>1</td>\n",
       "      <td>0</td>\n",
       "      <td>113803</td>\n",
       "      <td>53.1000</td>\n",
       "      <td>C123</td>\n",
       "      <td>S</td>\n",
       "    </tr>\n",
       "    <tr>\n",
       "      <th>4</th>\n",
       "      <td>5</td>\n",
       "      <td>0</td>\n",
       "      <td>3</td>\n",
       "      <td>Allen, Mr. William Henry</td>\n",
       "      <td>male</td>\n",
       "      <td>35.0</td>\n",
       "      <td>0</td>\n",
       "      <td>0</td>\n",
       "      <td>373450</td>\n",
       "      <td>8.0500</td>\n",
       "      <td>NaN</td>\n",
       "      <td>S</td>\n",
       "    </tr>\n",
       "  </tbody>\n",
       "</table>\n",
       "</div>"
      ],
      "text/plain": [
       "   PassengerId  Survived  Pclass  \\\n",
       "0            1         0       3   \n",
       "1            2         1       1   \n",
       "2            3         1       3   \n",
       "3            4         1       1   \n",
       "4            5         0       3   \n",
       "\n",
       "                                                Name     Sex   Age  SibSp  \\\n",
       "0                            Braund, Mr. Owen Harris    male  22.0      1   \n",
       "1  Cumings, Mrs. John Bradley (Florence Briggs Th...  female  38.0      1   \n",
       "2                             Heikkinen, Miss. Laina  female  26.0      0   \n",
       "3       Futrelle, Mrs. Jacques Heath (Lily May Peel)  female  35.0      1   \n",
       "4                           Allen, Mr. William Henry    male  35.0      0   \n",
       "\n",
       "   Parch            Ticket     Fare Cabin Embarked  \n",
       "0      0         A/5 21171   7.2500   NaN        S  \n",
       "1      0          PC 17599  71.2833   C85        C  \n",
       "2      0  STON/O2. 3101282   7.9250   NaN        S  \n",
       "3      0            113803  53.1000  C123        S  \n",
       "4      0            373450   8.0500   NaN        S  "
      ]
     },
     "execution_count": 3,
     "metadata": {},
     "output_type": "execute_result"
    }
   ],
   "source": [
    "train_df.head()"
   ]
  },
  {
   "cell_type": "code",
   "execution_count": 4,
   "id": "little-vegetarian",
   "metadata": {
    "execution": {
     "iopub.execute_input": "2021-06-15T14:24:29.332233Z",
     "iopub.status.busy": "2021-06-15T14:24:29.331321Z",
     "iopub.status.idle": "2021-06-15T14:24:29.336021Z",
     "shell.execute_reply": "2021-06-15T14:24:29.335379Z",
     "shell.execute_reply.started": "2021-06-15T14:23:06.478371Z"
    },
    "papermill": {
     "duration": 0.047566,
     "end_time": "2021-06-15T14:24:29.336193",
     "exception": false,
     "start_time": "2021-06-15T14:24:29.288627",
     "status": "completed"
    },
    "tags": []
   },
   "outputs": [
    {
     "data": {
      "text/html": [
       "<div>\n",
       "<style scoped>\n",
       "    .dataframe tbody tr th:only-of-type {\n",
       "        vertical-align: middle;\n",
       "    }\n",
       "\n",
       "    .dataframe tbody tr th {\n",
       "        vertical-align: top;\n",
       "    }\n",
       "\n",
       "    .dataframe thead th {\n",
       "        text-align: right;\n",
       "    }\n",
       "</style>\n",
       "<table border=\"1\" class=\"dataframe\">\n",
       "  <thead>\n",
       "    <tr style=\"text-align: right;\">\n",
       "      <th></th>\n",
       "      <th>PassengerId</th>\n",
       "      <th>Pclass</th>\n",
       "      <th>Name</th>\n",
       "      <th>Sex</th>\n",
       "      <th>Age</th>\n",
       "      <th>SibSp</th>\n",
       "      <th>Parch</th>\n",
       "      <th>Ticket</th>\n",
       "      <th>Fare</th>\n",
       "      <th>Cabin</th>\n",
       "      <th>Embarked</th>\n",
       "    </tr>\n",
       "  </thead>\n",
       "  <tbody>\n",
       "    <tr>\n",
       "      <th>0</th>\n",
       "      <td>892</td>\n",
       "      <td>3</td>\n",
       "      <td>Kelly, Mr. James</td>\n",
       "      <td>male</td>\n",
       "      <td>34.5</td>\n",
       "      <td>0</td>\n",
       "      <td>0</td>\n",
       "      <td>330911</td>\n",
       "      <td>7.8292</td>\n",
       "      <td>NaN</td>\n",
       "      <td>Q</td>\n",
       "    </tr>\n",
       "    <tr>\n",
       "      <th>1</th>\n",
       "      <td>893</td>\n",
       "      <td>3</td>\n",
       "      <td>Wilkes, Mrs. James (Ellen Needs)</td>\n",
       "      <td>female</td>\n",
       "      <td>47.0</td>\n",
       "      <td>1</td>\n",
       "      <td>0</td>\n",
       "      <td>363272</td>\n",
       "      <td>7.0000</td>\n",
       "      <td>NaN</td>\n",
       "      <td>S</td>\n",
       "    </tr>\n",
       "    <tr>\n",
       "      <th>2</th>\n",
       "      <td>894</td>\n",
       "      <td>2</td>\n",
       "      <td>Myles, Mr. Thomas Francis</td>\n",
       "      <td>male</td>\n",
       "      <td>62.0</td>\n",
       "      <td>0</td>\n",
       "      <td>0</td>\n",
       "      <td>240276</td>\n",
       "      <td>9.6875</td>\n",
       "      <td>NaN</td>\n",
       "      <td>Q</td>\n",
       "    </tr>\n",
       "    <tr>\n",
       "      <th>3</th>\n",
       "      <td>895</td>\n",
       "      <td>3</td>\n",
       "      <td>Wirz, Mr. Albert</td>\n",
       "      <td>male</td>\n",
       "      <td>27.0</td>\n",
       "      <td>0</td>\n",
       "      <td>0</td>\n",
       "      <td>315154</td>\n",
       "      <td>8.6625</td>\n",
       "      <td>NaN</td>\n",
       "      <td>S</td>\n",
       "    </tr>\n",
       "    <tr>\n",
       "      <th>4</th>\n",
       "      <td>896</td>\n",
       "      <td>3</td>\n",
       "      <td>Hirvonen, Mrs. Alexander (Helga E Lindqvist)</td>\n",
       "      <td>female</td>\n",
       "      <td>22.0</td>\n",
       "      <td>1</td>\n",
       "      <td>1</td>\n",
       "      <td>3101298</td>\n",
       "      <td>12.2875</td>\n",
       "      <td>NaN</td>\n",
       "      <td>S</td>\n",
       "    </tr>\n",
       "  </tbody>\n",
       "</table>\n",
       "</div>"
      ],
      "text/plain": [
       "   PassengerId  Pclass                                          Name     Sex  \\\n",
       "0          892       3                              Kelly, Mr. James    male   \n",
       "1          893       3              Wilkes, Mrs. James (Ellen Needs)  female   \n",
       "2          894       2                     Myles, Mr. Thomas Francis    male   \n",
       "3          895       3                              Wirz, Mr. Albert    male   \n",
       "4          896       3  Hirvonen, Mrs. Alexander (Helga E Lindqvist)  female   \n",
       "\n",
       "    Age  SibSp  Parch   Ticket     Fare Cabin Embarked  \n",
       "0  34.5      0      0   330911   7.8292   NaN        Q  \n",
       "1  47.0      1      0   363272   7.0000   NaN        S  \n",
       "2  62.0      0      0   240276   9.6875   NaN        Q  \n",
       "3  27.0      0      0   315154   8.6625   NaN        S  \n",
       "4  22.0      1      1  3101298  12.2875   NaN        S  "
      ]
     },
     "execution_count": 4,
     "metadata": {},
     "output_type": "execute_result"
    }
   ],
   "source": [
    "test_df.head()"
   ]
  },
  {
   "cell_type": "code",
   "execution_count": 5,
   "id": "organized-vehicle",
   "metadata": {
    "execution": {
     "iopub.execute_input": "2021-06-15T14:24:29.424932Z",
     "iopub.status.busy": "2021-06-15T14:24:29.395685Z",
     "iopub.status.idle": "2021-06-15T14:24:29.432140Z",
     "shell.execute_reply": "2021-06-15T14:24:29.431425Z",
     "shell.execute_reply.started": "2021-06-15T14:23:06.495702Z"
    },
    "papermill": {
     "duration": 0.070214,
     "end_time": "2021-06-15T14:24:29.432317",
     "exception": false,
     "start_time": "2021-06-15T14:24:29.362103",
     "status": "completed"
    },
    "tags": []
   },
   "outputs": [
    {
     "name": "stdout",
     "output_type": "stream",
     "text": [
      "<class 'pandas.core.frame.DataFrame'>\n",
      "RangeIndex: 891 entries, 0 to 890\n",
      "Data columns (total 12 columns):\n",
      " #   Column       Non-Null Count  Dtype  \n",
      "---  ------       --------------  -----  \n",
      " 0   PassengerId  891 non-null    int64  \n",
      " 1   Survived     891 non-null    int64  \n",
      " 2   Pclass       891 non-null    int64  \n",
      " 3   Name         891 non-null    object \n",
      " 4   Sex          891 non-null    object \n",
      " 5   Age          714 non-null    float64\n",
      " 6   SibSp        891 non-null    int64  \n",
      " 7   Parch        891 non-null    int64  \n",
      " 8   Ticket       891 non-null    object \n",
      " 9   Fare         891 non-null    float64\n",
      " 10  Cabin        204 non-null    object \n",
      " 11  Embarked     889 non-null    object \n",
      "dtypes: float64(2), int64(5), object(5)\n",
      "memory usage: 83.7+ KB\n",
      "________________________________________\n",
      "<class 'pandas.core.frame.DataFrame'>\n",
      "RangeIndex: 418 entries, 0 to 417\n",
      "Data columns (total 11 columns):\n",
      " #   Column       Non-Null Count  Dtype  \n",
      "---  ------       --------------  -----  \n",
      " 0   PassengerId  418 non-null    int64  \n",
      " 1   Pclass       418 non-null    int64  \n",
      " 2   Name         418 non-null    object \n",
      " 3   Sex          418 non-null    object \n",
      " 4   Age          332 non-null    float64\n",
      " 5   SibSp        418 non-null    int64  \n",
      " 6   Parch        418 non-null    int64  \n",
      " 7   Ticket       418 non-null    object \n",
      " 8   Fare         417 non-null    float64\n",
      " 9   Cabin        91 non-null     object \n",
      " 10  Embarked     418 non-null    object \n",
      "dtypes: float64(2), int64(4), object(5)\n",
      "memory usage: 36.0+ KB\n"
     ]
    }
   ],
   "source": [
    "train_df.info()\n",
    "print('_'*40)\n",
    "test_df.info()"
   ]
  },
  {
   "cell_type": "code",
   "execution_count": 6,
   "id": "ruled-pricing",
   "metadata": {
    "execution": {
     "iopub.execute_input": "2021-06-15T14:24:29.497188Z",
     "iopub.status.busy": "2021-06-15T14:24:29.496402Z",
     "iopub.status.idle": "2021-06-15T14:24:29.530646Z",
     "shell.execute_reply": "2021-06-15T14:24:29.530075Z",
     "shell.execute_reply.started": "2021-06-15T14:23:06.687278Z"
    },
    "papermill": {
     "duration": 0.071263,
     "end_time": "2021-06-15T14:24:29.530828",
     "exception": false,
     "start_time": "2021-06-15T14:24:29.459565",
     "status": "completed"
    },
    "tags": []
   },
   "outputs": [
    {
     "data": {
      "text/html": [
       "<div>\n",
       "<style scoped>\n",
       "    .dataframe tbody tr th:only-of-type {\n",
       "        vertical-align: middle;\n",
       "    }\n",
       "\n",
       "    .dataframe tbody tr th {\n",
       "        vertical-align: top;\n",
       "    }\n",
       "\n",
       "    .dataframe thead th {\n",
       "        text-align: right;\n",
       "    }\n",
       "</style>\n",
       "<table border=\"1\" class=\"dataframe\">\n",
       "  <thead>\n",
       "    <tr style=\"text-align: right;\">\n",
       "      <th></th>\n",
       "      <th>PassengerId</th>\n",
       "      <th>Survived</th>\n",
       "      <th>Pclass</th>\n",
       "      <th>Age</th>\n",
       "      <th>SibSp</th>\n",
       "      <th>Parch</th>\n",
       "      <th>Fare</th>\n",
       "    </tr>\n",
       "  </thead>\n",
       "  <tbody>\n",
       "    <tr>\n",
       "      <th>count</th>\n",
       "      <td>891.000000</td>\n",
       "      <td>891.000000</td>\n",
       "      <td>891.000000</td>\n",
       "      <td>714.000000</td>\n",
       "      <td>891.000000</td>\n",
       "      <td>891.000000</td>\n",
       "      <td>891.000000</td>\n",
       "    </tr>\n",
       "    <tr>\n",
       "      <th>mean</th>\n",
       "      <td>446.000000</td>\n",
       "      <td>0.383838</td>\n",
       "      <td>2.308642</td>\n",
       "      <td>29.699118</td>\n",
       "      <td>0.523008</td>\n",
       "      <td>0.381594</td>\n",
       "      <td>32.204208</td>\n",
       "    </tr>\n",
       "    <tr>\n",
       "      <th>std</th>\n",
       "      <td>257.353842</td>\n",
       "      <td>0.486592</td>\n",
       "      <td>0.836071</td>\n",
       "      <td>14.526497</td>\n",
       "      <td>1.102743</td>\n",
       "      <td>0.806057</td>\n",
       "      <td>49.693429</td>\n",
       "    </tr>\n",
       "    <tr>\n",
       "      <th>min</th>\n",
       "      <td>1.000000</td>\n",
       "      <td>0.000000</td>\n",
       "      <td>1.000000</td>\n",
       "      <td>0.420000</td>\n",
       "      <td>0.000000</td>\n",
       "      <td>0.000000</td>\n",
       "      <td>0.000000</td>\n",
       "    </tr>\n",
       "    <tr>\n",
       "      <th>25%</th>\n",
       "      <td>223.500000</td>\n",
       "      <td>0.000000</td>\n",
       "      <td>2.000000</td>\n",
       "      <td>20.125000</td>\n",
       "      <td>0.000000</td>\n",
       "      <td>0.000000</td>\n",
       "      <td>7.910400</td>\n",
       "    </tr>\n",
       "    <tr>\n",
       "      <th>50%</th>\n",
       "      <td>446.000000</td>\n",
       "      <td>0.000000</td>\n",
       "      <td>3.000000</td>\n",
       "      <td>28.000000</td>\n",
       "      <td>0.000000</td>\n",
       "      <td>0.000000</td>\n",
       "      <td>14.454200</td>\n",
       "    </tr>\n",
       "    <tr>\n",
       "      <th>75%</th>\n",
       "      <td>668.500000</td>\n",
       "      <td>1.000000</td>\n",
       "      <td>3.000000</td>\n",
       "      <td>38.000000</td>\n",
       "      <td>1.000000</td>\n",
       "      <td>0.000000</td>\n",
       "      <td>31.000000</td>\n",
       "    </tr>\n",
       "    <tr>\n",
       "      <th>max</th>\n",
       "      <td>891.000000</td>\n",
       "      <td>1.000000</td>\n",
       "      <td>3.000000</td>\n",
       "      <td>80.000000</td>\n",
       "      <td>8.000000</td>\n",
       "      <td>6.000000</td>\n",
       "      <td>512.329200</td>\n",
       "    </tr>\n",
       "  </tbody>\n",
       "</table>\n",
       "</div>"
      ],
      "text/plain": [
       "       PassengerId    Survived      Pclass         Age       SibSp  \\\n",
       "count   891.000000  891.000000  891.000000  714.000000  891.000000   \n",
       "mean    446.000000    0.383838    2.308642   29.699118    0.523008   \n",
       "std     257.353842    0.486592    0.836071   14.526497    1.102743   \n",
       "min       1.000000    0.000000    1.000000    0.420000    0.000000   \n",
       "25%     223.500000    0.000000    2.000000   20.125000    0.000000   \n",
       "50%     446.000000    0.000000    3.000000   28.000000    0.000000   \n",
       "75%     668.500000    1.000000    3.000000   38.000000    1.000000   \n",
       "max     891.000000    1.000000    3.000000   80.000000    8.000000   \n",
       "\n",
       "            Parch        Fare  \n",
       "count  891.000000  891.000000  \n",
       "mean     0.381594   32.204208  \n",
       "std      0.806057   49.693429  \n",
       "min      0.000000    0.000000  \n",
       "25%      0.000000    7.910400  \n",
       "50%      0.000000   14.454200  \n",
       "75%      0.000000   31.000000  \n",
       "max      6.000000  512.329200  "
      ]
     },
     "execution_count": 6,
     "metadata": {},
     "output_type": "execute_result"
    }
   ],
   "source": [
    "#Basic stat of the training set\n",
    "train_df.describe()"
   ]
  },
  {
   "cell_type": "markdown",
   "id": "intelligent-behavior",
   "metadata": {
    "papermill": {
     "duration": 0.026342,
     "end_time": "2021-06-15T14:24:29.584030",
     "exception": false,
     "start_time": "2021-06-15T14:24:29.557688",
     "status": "completed"
    },
    "tags": []
   },
   "source": [
    "# Data cleaning"
   ]
  },
  {
   "cell_type": "code",
   "execution_count": 7,
   "id": "interpreted-sculpture",
   "metadata": {
    "execution": {
     "iopub.execute_input": "2021-06-15T14:24:29.649628Z",
     "iopub.status.busy": "2021-06-15T14:24:29.645858Z",
     "iopub.status.idle": "2021-06-15T14:24:29.665477Z",
     "shell.execute_reply": "2021-06-15T14:24:29.666043Z",
     "shell.execute_reply.started": "2021-06-15T14:23:06.887080Z"
    },
    "papermill": {
     "duration": 0.055252,
     "end_time": "2021-06-15T14:24:29.666245",
     "exception": false,
     "start_time": "2021-06-15T14:24:29.610993",
     "status": "completed"
    },
    "tags": []
   },
   "outputs": [
    {
     "data": {
      "text/html": [
       "<div>\n",
       "<style scoped>\n",
       "    .dataframe tbody tr th:only-of-type {\n",
       "        vertical-align: middle;\n",
       "    }\n",
       "\n",
       "    .dataframe tbody tr th {\n",
       "        vertical-align: top;\n",
       "    }\n",
       "\n",
       "    .dataframe thead th {\n",
       "        text-align: right;\n",
       "    }\n",
       "</style>\n",
       "<table border=\"1\" class=\"dataframe\">\n",
       "  <thead>\n",
       "    <tr style=\"text-align: right;\">\n",
       "      <th></th>\n",
       "      <th>PassengerId</th>\n",
       "      <th>Survived</th>\n",
       "      <th>Pclass</th>\n",
       "      <th>Name</th>\n",
       "      <th>Sex</th>\n",
       "      <th>Age</th>\n",
       "      <th>SibSp</th>\n",
       "      <th>Parch</th>\n",
       "      <th>Ticket</th>\n",
       "      <th>Fare</th>\n",
       "      <th>Cabin</th>\n",
       "      <th>Embarked</th>\n",
       "    </tr>\n",
       "  </thead>\n",
       "  <tbody>\n",
       "    <tr>\n",
       "      <th>0</th>\n",
       "      <td>1</td>\n",
       "      <td>0.0</td>\n",
       "      <td>3</td>\n",
       "      <td>Braund, Mr. Owen Harris</td>\n",
       "      <td>male</td>\n",
       "      <td>22.0</td>\n",
       "      <td>1</td>\n",
       "      <td>0</td>\n",
       "      <td>A/5 21171</td>\n",
       "      <td>7.2500</td>\n",
       "      <td>NaN</td>\n",
       "      <td>S</td>\n",
       "    </tr>\n",
       "    <tr>\n",
       "      <th>1</th>\n",
       "      <td>2</td>\n",
       "      <td>1.0</td>\n",
       "      <td>1</td>\n",
       "      <td>Cumings, Mrs. John Bradley (Florence Briggs Th...</td>\n",
       "      <td>female</td>\n",
       "      <td>38.0</td>\n",
       "      <td>1</td>\n",
       "      <td>0</td>\n",
       "      <td>PC 17599</td>\n",
       "      <td>71.2833</td>\n",
       "      <td>C85</td>\n",
       "      <td>C</td>\n",
       "    </tr>\n",
       "    <tr>\n",
       "      <th>2</th>\n",
       "      <td>3</td>\n",
       "      <td>1.0</td>\n",
       "      <td>3</td>\n",
       "      <td>Heikkinen, Miss. Laina</td>\n",
       "      <td>female</td>\n",
       "      <td>26.0</td>\n",
       "      <td>0</td>\n",
       "      <td>0</td>\n",
       "      <td>STON/O2. 3101282</td>\n",
       "      <td>7.9250</td>\n",
       "      <td>NaN</td>\n",
       "      <td>S</td>\n",
       "    </tr>\n",
       "    <tr>\n",
       "      <th>3</th>\n",
       "      <td>4</td>\n",
       "      <td>1.0</td>\n",
       "      <td>1</td>\n",
       "      <td>Futrelle, Mrs. Jacques Heath (Lily May Peel)</td>\n",
       "      <td>female</td>\n",
       "      <td>35.0</td>\n",
       "      <td>1</td>\n",
       "      <td>0</td>\n",
       "      <td>113803</td>\n",
       "      <td>53.1000</td>\n",
       "      <td>C123</td>\n",
       "      <td>S</td>\n",
       "    </tr>\n",
       "    <tr>\n",
       "      <th>4</th>\n",
       "      <td>5</td>\n",
       "      <td>0.0</td>\n",
       "      <td>3</td>\n",
       "      <td>Allen, Mr. William Henry</td>\n",
       "      <td>male</td>\n",
       "      <td>35.0</td>\n",
       "      <td>0</td>\n",
       "      <td>0</td>\n",
       "      <td>373450</td>\n",
       "      <td>8.0500</td>\n",
       "      <td>NaN</td>\n",
       "      <td>S</td>\n",
       "    </tr>\n",
       "  </tbody>\n",
       "</table>\n",
       "</div>"
      ],
      "text/plain": [
       "   PassengerId  Survived  Pclass  \\\n",
       "0            1       0.0       3   \n",
       "1            2       1.0       1   \n",
       "2            3       1.0       3   \n",
       "3            4       1.0       1   \n",
       "4            5       0.0       3   \n",
       "\n",
       "                                                Name     Sex   Age  SibSp  \\\n",
       "0                            Braund, Mr. Owen Harris    male  22.0      1   \n",
       "1  Cumings, Mrs. John Bradley (Florence Briggs Th...  female  38.0      1   \n",
       "2                             Heikkinen, Miss. Laina  female  26.0      0   \n",
       "3       Futrelle, Mrs. Jacques Heath (Lily May Peel)  female  35.0      1   \n",
       "4                           Allen, Mr. William Henry    male  35.0      0   \n",
       "\n",
       "   Parch            Ticket     Fare Cabin Embarked  \n",
       "0      0         A/5 21171   7.2500   NaN        S  \n",
       "1      0          PC 17599  71.2833   C85        C  \n",
       "2      0  STON/O2. 3101282   7.9250   NaN        S  \n",
       "3      0            113803  53.1000  C123        S  \n",
       "4      0            373450   8.0500   NaN        S  "
      ]
     },
     "execution_count": 7,
     "metadata": {},
     "output_type": "execute_result"
    }
   ],
   "source": [
    "#As there are some missing value in Column 'Age' and ages are continuated data, we fill the missing data with median\n",
    "data_clean = pd.concat([train_df, test_df], axis = 0)\n",
    "data_clean.head()"
   ]
  },
  {
   "cell_type": "code",
   "execution_count": 8,
   "id": "manufactured-moment",
   "metadata": {
    "execution": {
     "iopub.execute_input": "2021-06-15T14:24:29.741600Z",
     "iopub.status.busy": "2021-06-15T14:24:29.740456Z",
     "iopub.status.idle": "2021-06-15T14:24:29.744085Z",
     "shell.execute_reply": "2021-06-15T14:24:29.744575Z",
     "shell.execute_reply.started": "2021-06-15T14:23:06.928955Z"
    },
    "papermill": {
     "duration": 0.050886,
     "end_time": "2021-06-15T14:24:29.744775",
     "exception": false,
     "start_time": "2021-06-15T14:24:29.693889",
     "status": "completed"
    },
    "tags": []
   },
   "outputs": [
    {
     "name": "stdout",
     "output_type": "stream",
     "text": [
      "<class 'pandas.core.frame.DataFrame'>\n",
      "Int64Index: 1309 entries, 0 to 417\n",
      "Data columns (total 12 columns):\n",
      " #   Column       Non-Null Count  Dtype  \n",
      "---  ------       --------------  -----  \n",
      " 0   PassengerId  1309 non-null   int64  \n",
      " 1   Survived     891 non-null    float64\n",
      " 2   Pclass       1309 non-null   int64  \n",
      " 3   Name         1309 non-null   object \n",
      " 4   Sex          1309 non-null   object \n",
      " 5   Age          1046 non-null   float64\n",
      " 6   SibSp        1309 non-null   int64  \n",
      " 7   Parch        1309 non-null   int64  \n",
      " 8   Ticket       1309 non-null   object \n",
      " 9   Fare         1308 non-null   float64\n",
      " 10  Cabin        295 non-null    object \n",
      " 11  Embarked     1307 non-null   object \n",
      "dtypes: float64(3), int64(4), object(5)\n",
      "memory usage: 132.9+ KB\n"
     ]
    }
   ],
   "source": [
    "data_clean.info()"
   ]
  },
  {
   "cell_type": "code",
   "execution_count": 9,
   "id": "terminal-tongue",
   "metadata": {
    "execution": {
     "iopub.execute_input": "2021-06-15T14:24:29.805631Z",
     "iopub.status.busy": "2021-06-15T14:24:29.804890Z",
     "iopub.status.idle": "2021-06-15T14:24:29.825573Z",
     "shell.execute_reply": "2021-06-15T14:24:29.826424Z",
     "shell.execute_reply.started": "2021-06-15T14:23:06.945384Z"
    },
    "papermill": {
     "duration": 0.052738,
     "end_time": "2021-06-15T14:24:29.826724",
     "exception": false,
     "start_time": "2021-06-15T14:24:29.773986",
     "status": "completed"
    },
    "tags": []
   },
   "outputs": [
    {
     "name": "stdout",
     "output_type": "stream",
     "text": [
      "<class 'pandas.core.frame.DataFrame'>\n",
      "Int64Index: 1309 entries, 0 to 417\n",
      "Data columns (total 12 columns):\n",
      " #   Column       Non-Null Count  Dtype  \n",
      "---  ------       --------------  -----  \n",
      " 0   PassengerId  1309 non-null   int64  \n",
      " 1   Survived     891 non-null    float64\n",
      " 2   Pclass       1309 non-null   int64  \n",
      " 3   Name         1309 non-null   object \n",
      " 4   Sex          1309 non-null   object \n",
      " 5   Age          1309 non-null   float64\n",
      " 6   SibSp        1309 non-null   int64  \n",
      " 7   Parch        1309 non-null   int64  \n",
      " 8   Ticket       1309 non-null   object \n",
      " 9   Fare         1308 non-null   float64\n",
      " 10  Cabin        295 non-null    object \n",
      " 11  Embarked     1307 non-null   object \n",
      "dtypes: float64(3), int64(4), object(5)\n",
      "memory usage: 132.9+ KB\n"
     ]
    }
   ],
   "source": [
    "data_clean['Age'] = data_clean['Age'].fillna(data_clean['Age'].mean())\n",
    "data_clean.info()"
   ]
  },
  {
   "cell_type": "code",
   "execution_count": 10,
   "id": "postal-squad",
   "metadata": {
    "execution": {
     "iopub.execute_input": "2021-06-15T14:24:29.892334Z",
     "iopub.status.busy": "2021-06-15T14:24:29.891526Z",
     "iopub.status.idle": "2021-06-15T14:24:29.895049Z",
     "shell.execute_reply": "2021-06-15T14:24:29.895518Z",
     "shell.execute_reply.started": "2021-06-15T14:23:06.962403Z"
    },
    "papermill": {
     "duration": 0.040438,
     "end_time": "2021-06-15T14:24:29.895723",
     "exception": false,
     "start_time": "2021-06-15T14:24:29.855285",
     "status": "completed"
    },
    "tags": []
   },
   "outputs": [
    {
     "data": {
      "text/plain": [
       "S    914\n",
       "C    270\n",
       "Q    123\n",
       "Name: Embarked, dtype: int64"
      ]
     },
     "execution_count": 10,
     "metadata": {},
     "output_type": "execute_result"
    }
   ],
   "source": [
    "data_clean['Embarked'].value_counts()"
   ]
  },
  {
   "cell_type": "code",
   "execution_count": 11,
   "id": "occupied-importance",
   "metadata": {
    "execution": {
     "iopub.execute_input": "2021-06-15T14:24:29.958412Z",
     "iopub.status.busy": "2021-06-15T14:24:29.957631Z",
     "iopub.status.idle": "2021-06-15T14:24:29.965355Z",
     "shell.execute_reply": "2021-06-15T14:24:29.965949Z",
     "shell.execute_reply.started": "2021-06-15T14:23:06.978910Z"
    },
    "papermill": {
     "duration": 0.040772,
     "end_time": "2021-06-15T14:24:29.966191",
     "exception": false,
     "start_time": "2021-06-15T14:24:29.925419",
     "status": "completed"
    },
    "tags": []
   },
   "outputs": [],
   "source": [
    "data_clean['Embarked'] = data_clean['Embarked'].fillna(data_clean['Embarked'].mode()[0])\n",
    "data_clean['Fare'] = data_clean['Fare'].fillna(data_clean['Fare'].mean())"
   ]
  },
  {
   "cell_type": "code",
   "execution_count": 12,
   "id": "living-trading",
   "metadata": {
    "execution": {
     "iopub.execute_input": "2021-06-15T14:24:30.027089Z",
     "iopub.status.busy": "2021-06-15T14:24:30.026411Z",
     "iopub.status.idle": "2021-06-15T14:24:30.044604Z",
     "shell.execute_reply": "2021-06-15T14:24:30.045200Z",
     "shell.execute_reply.started": "2021-06-15T14:23:06.992265Z"
    },
    "papermill": {
     "duration": 0.050693,
     "end_time": "2021-06-15T14:24:30.045407",
     "exception": false,
     "start_time": "2021-06-15T14:24:29.994714",
     "status": "completed"
    },
    "tags": []
   },
   "outputs": [
    {
     "name": "stdout",
     "output_type": "stream",
     "text": [
      "<class 'pandas.core.frame.DataFrame'>\n",
      "Int64Index: 1309 entries, 0 to 417\n",
      "Data columns (total 12 columns):\n",
      " #   Column       Non-Null Count  Dtype  \n",
      "---  ------       --------------  -----  \n",
      " 0   PassengerId  1309 non-null   int64  \n",
      " 1   Survived     891 non-null    float64\n",
      " 2   Pclass       1309 non-null   int64  \n",
      " 3   Name         1309 non-null   object \n",
      " 4   Sex          1309 non-null   object \n",
      " 5   Age          1309 non-null   float64\n",
      " 6   SibSp        1309 non-null   int64  \n",
      " 7   Parch        1309 non-null   int64  \n",
      " 8   Ticket       1309 non-null   object \n",
      " 9   Fare         1309 non-null   float64\n",
      " 10  Cabin        295 non-null    object \n",
      " 11  Embarked     1309 non-null   object \n",
      "dtypes: float64(3), int64(4), object(5)\n",
      "memory usage: 132.9+ KB\n"
     ]
    }
   ],
   "source": [
    "data_clean.info()"
   ]
  },
  {
   "cell_type": "code",
   "execution_count": 13,
   "id": "assigned-parish",
   "metadata": {
    "execution": {
     "iopub.execute_input": "2021-06-15T14:24:30.107444Z",
     "iopub.status.busy": "2021-06-15T14:24:30.106711Z",
     "iopub.status.idle": "2021-06-15T14:24:30.113901Z",
     "shell.execute_reply": "2021-06-15T14:24:30.114398Z",
     "shell.execute_reply.started": "2021-06-15T14:23:07.016053Z"
    },
    "papermill": {
     "duration": 0.040033,
     "end_time": "2021-06-15T14:24:30.114617",
     "exception": false,
     "start_time": "2021-06-15T14:24:30.074584",
     "status": "completed"
    },
    "tags": []
   },
   "outputs": [],
   "source": [
    "data_clean = data_clean.drop((['Cabin', 'Ticket']), axis = 1)"
   ]
  },
  {
   "cell_type": "code",
   "execution_count": 14,
   "id": "conceptual-landscape",
   "metadata": {
    "execution": {
     "iopub.execute_input": "2021-06-15T14:24:30.176737Z",
     "iopub.status.busy": "2021-06-15T14:24:30.175985Z",
     "iopub.status.idle": "2021-06-15T14:24:30.186346Z",
     "shell.execute_reply": "2021-06-15T14:24:30.185628Z",
     "shell.execute_reply.started": "2021-06-15T14:23:07.025255Z"
    },
    "papermill": {
     "duration": 0.042818,
     "end_time": "2021-06-15T14:24:30.186528",
     "exception": false,
     "start_time": "2021-06-15T14:24:30.143710",
     "status": "completed"
    },
    "tags": []
   },
   "outputs": [
    {
     "data": {
      "text/plain": [
       "0      S\n",
       "1      C\n",
       "2      S\n",
       "3      S\n",
       "4      S\n",
       "      ..\n",
       "413    S\n",
       "414    C\n",
       "415    S\n",
       "416    S\n",
       "417    C\n",
       "Name: Embarked, Length: 1309, dtype: object"
      ]
     },
     "execution_count": 14,
     "metadata": {},
     "output_type": "execute_result"
    }
   ],
   "source": [
    "data_clean['Embarked']"
   ]
  },
  {
   "cell_type": "code",
   "execution_count": 15,
   "id": "recent-insertion",
   "metadata": {
    "execution": {
     "iopub.execute_input": "2021-06-15T14:24:30.258724Z",
     "iopub.status.busy": "2021-06-15T14:24:30.257923Z",
     "iopub.status.idle": "2021-06-15T14:24:31.307464Z",
     "shell.execute_reply": "2021-06-15T14:24:31.306708Z",
     "shell.execute_reply.started": "2021-06-15T14:23:07.135429Z"
    },
    "papermill": {
     "duration": 1.089615,
     "end_time": "2021-06-15T14:24:31.307638",
     "exception": false,
     "start_time": "2021-06-15T14:24:30.218023",
     "status": "completed"
    },
    "tags": []
   },
   "outputs": [
    {
     "data": {
      "text/html": [
       "<div>\n",
       "<style scoped>\n",
       "    .dataframe tbody tr th:only-of-type {\n",
       "        vertical-align: middle;\n",
       "    }\n",
       "\n",
       "    .dataframe tbody tr th {\n",
       "        vertical-align: top;\n",
       "    }\n",
       "\n",
       "    .dataframe thead th {\n",
       "        text-align: right;\n",
       "    }\n",
       "</style>\n",
       "<table border=\"1\" class=\"dataframe\">\n",
       "  <thead>\n",
       "    <tr style=\"text-align: right;\">\n",
       "      <th></th>\n",
       "      <th>PassengerId</th>\n",
       "      <th>Survived</th>\n",
       "      <th>Pclass</th>\n",
       "      <th>Name</th>\n",
       "      <th>Age</th>\n",
       "      <th>SibSp</th>\n",
       "      <th>Parch</th>\n",
       "      <th>Fare</th>\n",
       "      <th>Sex_female</th>\n",
       "      <th>Sex_male</th>\n",
       "      <th>Embarked_C</th>\n",
       "      <th>Embarked_Q</th>\n",
       "      <th>Embarked_S</th>\n",
       "    </tr>\n",
       "  </thead>\n",
       "  <tbody>\n",
       "    <tr>\n",
       "      <th>0</th>\n",
       "      <td>1</td>\n",
       "      <td>0.0</td>\n",
       "      <td>3</td>\n",
       "      <td>Braund, Mr. Owen Harris</td>\n",
       "      <td>22.0</td>\n",
       "      <td>1</td>\n",
       "      <td>0</td>\n",
       "      <td>7.2500</td>\n",
       "      <td>0</td>\n",
       "      <td>1</td>\n",
       "      <td>0</td>\n",
       "      <td>0</td>\n",
       "      <td>1</td>\n",
       "    </tr>\n",
       "    <tr>\n",
       "      <th>1</th>\n",
       "      <td>2</td>\n",
       "      <td>1.0</td>\n",
       "      <td>1</td>\n",
       "      <td>Cumings, Mrs. John Bradley (Florence Briggs Th...</td>\n",
       "      <td>38.0</td>\n",
       "      <td>1</td>\n",
       "      <td>0</td>\n",
       "      <td>71.2833</td>\n",
       "      <td>1</td>\n",
       "      <td>0</td>\n",
       "      <td>1</td>\n",
       "      <td>0</td>\n",
       "      <td>0</td>\n",
       "    </tr>\n",
       "    <tr>\n",
       "      <th>2</th>\n",
       "      <td>3</td>\n",
       "      <td>1.0</td>\n",
       "      <td>3</td>\n",
       "      <td>Heikkinen, Miss. Laina</td>\n",
       "      <td>26.0</td>\n",
       "      <td>0</td>\n",
       "      <td>0</td>\n",
       "      <td>7.9250</td>\n",
       "      <td>1</td>\n",
       "      <td>0</td>\n",
       "      <td>0</td>\n",
       "      <td>0</td>\n",
       "      <td>1</td>\n",
       "    </tr>\n",
       "    <tr>\n",
       "      <th>3</th>\n",
       "      <td>4</td>\n",
       "      <td>1.0</td>\n",
       "      <td>1</td>\n",
       "      <td>Futrelle, Mrs. Jacques Heath (Lily May Peel)</td>\n",
       "      <td>35.0</td>\n",
       "      <td>1</td>\n",
       "      <td>0</td>\n",
       "      <td>53.1000</td>\n",
       "      <td>1</td>\n",
       "      <td>0</td>\n",
       "      <td>0</td>\n",
       "      <td>0</td>\n",
       "      <td>1</td>\n",
       "    </tr>\n",
       "    <tr>\n",
       "      <th>4</th>\n",
       "      <td>5</td>\n",
       "      <td>0.0</td>\n",
       "      <td>3</td>\n",
       "      <td>Allen, Mr. William Henry</td>\n",
       "      <td>35.0</td>\n",
       "      <td>0</td>\n",
       "      <td>0</td>\n",
       "      <td>8.0500</td>\n",
       "      <td>0</td>\n",
       "      <td>1</td>\n",
       "      <td>0</td>\n",
       "      <td>0</td>\n",
       "      <td>1</td>\n",
       "    </tr>\n",
       "  </tbody>\n",
       "</table>\n",
       "</div>"
      ],
      "text/plain": [
       "   PassengerId  Survived  Pclass  \\\n",
       "0            1       0.0       3   \n",
       "1            2       1.0       1   \n",
       "2            3       1.0       3   \n",
       "3            4       1.0       1   \n",
       "4            5       0.0       3   \n",
       "\n",
       "                                                Name   Age  SibSp  Parch  \\\n",
       "0                            Braund, Mr. Owen Harris  22.0      1      0   \n",
       "1  Cumings, Mrs. John Bradley (Florence Briggs Th...  38.0      1      0   \n",
       "2                             Heikkinen, Miss. Laina  26.0      0      0   \n",
       "3       Futrelle, Mrs. Jacques Heath (Lily May Peel)  35.0      1      0   \n",
       "4                           Allen, Mr. William Henry  35.0      0      0   \n",
       "\n",
       "      Fare  Sex_female  Sex_male  Embarked_C  Embarked_Q  Embarked_S  \n",
       "0   7.2500           0         1           0           0           1  \n",
       "1  71.2833           1         0           1           0           0  \n",
       "2   7.9250           1         0           0           0           1  \n",
       "3  53.1000           1         0           0           0           1  \n",
       "4   8.0500           0         1           0           0           1  "
      ]
     },
     "execution_count": 15,
     "metadata": {},
     "output_type": "execute_result"
    }
   ],
   "source": [
    "from sklearn.preprocessing import LabelEncoder\n",
    "from sklearn.preprocessing import OneHotEncoder\n",
    "label = LabelEncoder()\n",
    "enc = OneHotEncoder()\n",
    "data_clean['Embarked'] = data_clean['Embarked'].astype(str)\n",
    "dum_df = pd.get_dummies(data = data_clean, columns = ['Sex','Embarked'])\n",
    "dum_df.head()"
   ]
  },
  {
   "cell_type": "code",
   "execution_count": 16,
   "id": "criminal-start",
   "metadata": {
    "execution": {
     "iopub.execute_input": "2021-06-15T14:24:31.375875Z",
     "iopub.status.busy": "2021-06-15T14:24:31.374709Z",
     "iopub.status.idle": "2021-06-15T14:24:31.378916Z",
     "shell.execute_reply": "2021-06-15T14:24:31.378289Z",
     "shell.execute_reply.started": "2021-06-15T14:23:07.162954Z"
    },
    "papermill": {
     "duration": 0.039356,
     "end_time": "2021-06-15T14:24:31.379077",
     "exception": false,
     "start_time": "2021-06-15T14:24:31.339721",
     "status": "completed"
    },
    "tags": []
   },
   "outputs": [],
   "source": [
    "target = data_clean['Survived']"
   ]
  },
  {
   "cell_type": "code",
   "execution_count": 17,
   "id": "muslim-surge",
   "metadata": {
    "execution": {
     "iopub.execute_input": "2021-06-15T14:24:31.441113Z",
     "iopub.status.busy": "2021-06-15T14:24:31.440476Z",
     "iopub.status.idle": "2021-06-15T14:24:31.463042Z",
     "shell.execute_reply": "2021-06-15T14:24:31.461979Z",
     "shell.execute_reply.started": "2021-06-15T14:23:07.168167Z"
    },
    "papermill": {
     "duration": 0.054707,
     "end_time": "2021-06-15T14:24:31.463345",
     "exception": false,
     "start_time": "2021-06-15T14:24:31.408638",
     "status": "completed"
    },
    "tags": []
   },
   "outputs": [
    {
     "name": "stdout",
     "output_type": "stream",
     "text": [
      "<class 'pandas.core.frame.DataFrame'>\n",
      "Int64Index: 1309 entries, 0 to 417\n",
      "Data columns (total 11 columns):\n",
      " #   Column       Non-Null Count  Dtype  \n",
      "---  ------       --------------  -----  \n",
      " 0   PassengerId  1309 non-null   int64  \n",
      " 1   Pclass       1309 non-null   int64  \n",
      " 2   Age          1309 non-null   float64\n",
      " 3   SibSp        1309 non-null   int64  \n",
      " 4   Parch        1309 non-null   int64  \n",
      " 5   Fare         1309 non-null   float64\n",
      " 6   Sex_female   1309 non-null   uint8  \n",
      " 7   Sex_male     1309 non-null   uint8  \n",
      " 8   Embarked_C   1309 non-null   uint8  \n",
      " 9   Embarked_Q   1309 non-null   uint8  \n",
      " 10  Embarked_S   1309 non-null   uint8  \n",
      "dtypes: float64(2), int64(4), uint8(5)\n",
      "memory usage: 78.0 KB\n"
     ]
    }
   ],
   "source": [
    "dum_df = dum_df.drop(['Survived', 'Name'], axis = 1)\n",
    "dum_df.info()"
   ]
  },
  {
   "cell_type": "markdown",
   "id": "utility-presence",
   "metadata": {
    "papermill": {
     "duration": 0.030215,
     "end_time": "2021-06-15T14:24:31.523688",
     "exception": false,
     "start_time": "2021-06-15T14:24:31.493473",
     "status": "completed"
    },
    "tags": []
   },
   "source": [
    "# Binning"
   ]
  },
  {
   "cell_type": "code",
   "execution_count": 18,
   "id": "third-conditioning",
   "metadata": {
    "execution": {
     "iopub.execute_input": "2021-06-15T14:24:31.591454Z",
     "iopub.status.busy": "2021-06-15T14:24:31.590575Z",
     "iopub.status.idle": "2021-06-15T14:24:31.634295Z",
     "shell.execute_reply": "2021-06-15T14:24:31.633703Z",
     "shell.execute_reply.started": "2021-06-15T14:23:07.190205Z"
    },
    "papermill": {
     "duration": 0.080301,
     "end_time": "2021-06-15T14:24:31.634451",
     "exception": false,
     "start_time": "2021-06-15T14:24:31.554150",
     "status": "completed"
    },
    "tags": []
   },
   "outputs": [
    {
     "data": {
      "text/plain": [
       "(0.0892, 13.475]     99\n",
       "(13.475, 26.78]     375\n",
       "(26.78, 40.085]     608\n",
       "(40.085, 53.39]     150\n",
       "(53.39, 66.695]      68\n",
       "(66.695, 80.0]        9\n",
       "Name: Age, dtype: int64"
      ]
     },
     "execution_count": 18,
     "metadata": {},
     "output_type": "execute_result"
    }
   ],
   "source": [
    "dum_df['Age'].value_counts(bins = 6, sort = False)"
   ]
  },
  {
   "cell_type": "code",
   "execution_count": 19,
   "id": "independent-audit",
   "metadata": {
    "execution": {
     "iopub.execute_input": "2021-06-15T14:24:31.712599Z",
     "iopub.status.busy": "2021-06-15T14:24:31.711858Z",
     "iopub.status.idle": "2021-06-15T14:24:31.716477Z",
     "shell.execute_reply": "2021-06-15T14:24:31.715770Z",
     "shell.execute_reply.started": "2021-06-15T14:23:07.205404Z"
    },
    "papermill": {
     "duration": 0.052001,
     "end_time": "2021-06-15T14:24:31.716642",
     "exception": false,
     "start_time": "2021-06-15T14:24:31.664641",
     "status": "completed"
    },
    "tags": []
   },
   "outputs": [],
   "source": [
    "# If we choose 6 classes, we would be going with interval of 13\n",
    "bins = [0, 13, 26, 40, 53, 66, 80]\n",
    "names = ['<13', '13-26', '26-40', '40-53', '53-66', '66-80']\n",
    "\n",
    "dum_df['AgeCategory'] = pd.cut(dum_df['Age'], bins, labels = names)\n",
    "\n",
    "numberedAgeCat = {'<13':0, '13-26':1, '26-40':2, '40-53':3, '53-66':4, '66-80':5}\n",
    "dum_df['AgeCategory'] = dum_df['AgeCategory'].map(numberedAgeCat)\n",
    "dum_df['AgeCategory'] = pd.to_numeric(dum_df['AgeCategory'])\n",
    "dum_df = dum_df.drop(['Age'], axis = 1)"
   ]
  },
  {
   "cell_type": "code",
   "execution_count": 20,
   "id": "reflected-gross",
   "metadata": {
    "execution": {
     "iopub.execute_input": "2021-06-15T14:24:31.803326Z",
     "iopub.status.busy": "2021-06-15T14:24:31.792786Z",
     "iopub.status.idle": "2021-06-15T14:24:31.806410Z",
     "shell.execute_reply": "2021-06-15T14:24:31.805803Z",
     "shell.execute_reply.started": "2021-06-15T14:23:07.219631Z"
    },
    "papermill": {
     "duration": 0.059399,
     "end_time": "2021-06-15T14:24:31.806571",
     "exception": false,
     "start_time": "2021-06-15T14:24:31.747172",
     "status": "completed"
    },
    "tags": []
   },
   "outputs": [],
   "source": [
    "dum_df['Fare'].value_counts(bins = 4, sort = False)\n",
    "dum_df['FareBin'] = pd.qcut(dum_df['Fare'], 4)\n",
    "dum_df['FareBin_Code'] = label.fit_transform(dum_df['FareBin'])"
   ]
  },
  {
   "cell_type": "code",
   "execution_count": 21,
   "id": "crazy-vinyl",
   "metadata": {
    "execution": {
     "iopub.execute_input": "2021-06-15T14:24:31.878089Z",
     "iopub.status.busy": "2021-06-15T14:24:31.877362Z",
     "iopub.status.idle": "2021-06-15T14:24:31.900989Z",
     "shell.execute_reply": "2021-06-15T14:24:31.901752Z",
     "shell.execute_reply.started": "2021-06-15T14:23:07.242899Z"
    },
    "papermill": {
     "duration": 0.065119,
     "end_time": "2021-06-15T14:24:31.902053",
     "exception": false,
     "start_time": "2021-06-15T14:24:31.836934",
     "status": "completed"
    },
    "tags": []
   },
   "outputs": [
    {
     "name": "stderr",
     "output_type": "stream",
     "text": [
      "/opt/conda/lib/python3.7/site-packages/pandas/core/indexing.py:1637: SettingWithCopyWarning: \n",
      "A value is trying to be set on a copy of a slice from a DataFrame\n",
      "\n",
      "See the caveats in the documentation: https://pandas.pydata.org/pandas-docs/stable/user_guide/indexing.html#returning-a-view-versus-a-copy\n",
      "  self._setitem_single_block(indexer, value, name)\n"
     ]
    },
    {
     "data": {
      "text/html": [
       "<div>\n",
       "<style scoped>\n",
       "    .dataframe tbody tr th:only-of-type {\n",
       "        vertical-align: middle;\n",
       "    }\n",
       "\n",
       "    .dataframe tbody tr th {\n",
       "        vertical-align: top;\n",
       "    }\n",
       "\n",
       "    .dataframe thead th {\n",
       "        text-align: right;\n",
       "    }\n",
       "</style>\n",
       "<table border=\"1\" class=\"dataframe\">\n",
       "  <thead>\n",
       "    <tr style=\"text-align: right;\">\n",
       "      <th></th>\n",
       "      <th>PassengerId</th>\n",
       "      <th>Pclass</th>\n",
       "      <th>Fare</th>\n",
       "      <th>Sex_female</th>\n",
       "      <th>Sex_male</th>\n",
       "      <th>Embarked_C</th>\n",
       "      <th>Embarked_Q</th>\n",
       "      <th>Embarked_S</th>\n",
       "      <th>AgeCategory</th>\n",
       "      <th>FareBin_Code</th>\n",
       "      <th>IsAlone</th>\n",
       "    </tr>\n",
       "  </thead>\n",
       "  <tbody>\n",
       "    <tr>\n",
       "      <th>0</th>\n",
       "      <td>1</td>\n",
       "      <td>3</td>\n",
       "      <td>7.2500</td>\n",
       "      <td>0</td>\n",
       "      <td>1</td>\n",
       "      <td>0</td>\n",
       "      <td>0</td>\n",
       "      <td>1</td>\n",
       "      <td>1</td>\n",
       "      <td>0</td>\n",
       "      <td>0</td>\n",
       "    </tr>\n",
       "    <tr>\n",
       "      <th>1</th>\n",
       "      <td>2</td>\n",
       "      <td>1</td>\n",
       "      <td>71.2833</td>\n",
       "      <td>1</td>\n",
       "      <td>0</td>\n",
       "      <td>1</td>\n",
       "      <td>0</td>\n",
       "      <td>0</td>\n",
       "      <td>2</td>\n",
       "      <td>3</td>\n",
       "      <td>0</td>\n",
       "    </tr>\n",
       "    <tr>\n",
       "      <th>2</th>\n",
       "      <td>3</td>\n",
       "      <td>3</td>\n",
       "      <td>7.9250</td>\n",
       "      <td>1</td>\n",
       "      <td>0</td>\n",
       "      <td>0</td>\n",
       "      <td>0</td>\n",
       "      <td>1</td>\n",
       "      <td>1</td>\n",
       "      <td>1</td>\n",
       "      <td>1</td>\n",
       "    </tr>\n",
       "    <tr>\n",
       "      <th>3</th>\n",
       "      <td>4</td>\n",
       "      <td>1</td>\n",
       "      <td>53.1000</td>\n",
       "      <td>1</td>\n",
       "      <td>0</td>\n",
       "      <td>0</td>\n",
       "      <td>0</td>\n",
       "      <td>1</td>\n",
       "      <td>2</td>\n",
       "      <td>3</td>\n",
       "      <td>0</td>\n",
       "    </tr>\n",
       "    <tr>\n",
       "      <th>4</th>\n",
       "      <td>5</td>\n",
       "      <td>3</td>\n",
       "      <td>8.0500</td>\n",
       "      <td>0</td>\n",
       "      <td>1</td>\n",
       "      <td>0</td>\n",
       "      <td>0</td>\n",
       "      <td>1</td>\n",
       "      <td>2</td>\n",
       "      <td>1</td>\n",
       "      <td>1</td>\n",
       "    </tr>\n",
       "  </tbody>\n",
       "</table>\n",
       "</div>"
      ],
      "text/plain": [
       "   PassengerId  Pclass     Fare  Sex_female  Sex_male  Embarked_C  Embarked_Q  \\\n",
       "0            1       3   7.2500           0         1           0           0   \n",
       "1            2       1  71.2833           1         0           1           0   \n",
       "2            3       3   7.9250           1         0           0           0   \n",
       "3            4       1  53.1000           1         0           0           0   \n",
       "4            5       3   8.0500           0         1           0           0   \n",
       "\n",
       "   Embarked_S  AgeCategory  FareBin_Code  IsAlone  \n",
       "0           1            1             0        0  \n",
       "1           0            2             3        0  \n",
       "2           1            1             1        1  \n",
       "3           1            2             3        0  \n",
       "4           1            2             1        1  "
      ]
     },
     "execution_count": 21,
     "metadata": {},
     "output_type": "execute_result"
    }
   ],
   "source": [
    "dum_df['FamilySize'] = dum_df['Parch'] + dum_df['SibSp'] + 1\n",
    "\n",
    "dum_df['IsAlone'] = 1\n",
    "dum_df['IsAlone'].loc[dum_df['FamilySize'] > 1] = 0\n",
    "dum_df = dum_df.drop(['SibSp', 'Parch', 'FamilySize', 'FareBin'], axis = 1)\n",
    "dum_df.head()"
   ]
  },
  {
   "cell_type": "code",
   "execution_count": 22,
   "id": "timely-conditions",
   "metadata": {
    "execution": {
     "iopub.execute_input": "2021-06-15T14:24:31.975855Z",
     "iopub.status.busy": "2021-06-15T14:24:31.975106Z",
     "iopub.status.idle": "2021-06-15T14:24:31.978827Z",
     "shell.execute_reply": "2021-06-15T14:24:31.978258Z",
     "shell.execute_reply.started": "2021-06-15T14:23:07.263678Z"
    },
    "papermill": {
     "duration": 0.045521,
     "end_time": "2021-06-15T14:24:31.979038",
     "exception": false,
     "start_time": "2021-06-15T14:24:31.933517",
     "status": "completed"
    },
    "tags": []
   },
   "outputs": [],
   "source": [
    "#Split data to train and test set\n",
    "train = dum_df.iloc[:891, :]\n",
    "test = dum_df.iloc[891:, :]\n",
    "train_y = target.iloc[:891]\n",
    "X_train = train.drop('PassengerId', axis = 1).copy()\n",
    "X_test = test.drop('PassengerId', axis = 1).copy()"
   ]
  },
  {
   "cell_type": "markdown",
   "id": "monthly-minimum",
   "metadata": {
    "papermill": {
     "duration": 0.033332,
     "end_time": "2021-06-15T14:24:32.043726",
     "exception": false,
     "start_time": "2021-06-15T14:24:32.010394",
     "status": "completed"
    },
    "tags": []
   },
   "source": [
    "# Feature scaling"
   ]
  },
  {
   "cell_type": "code",
   "execution_count": 23,
   "id": "precious-italian",
   "metadata": {
    "execution": {
     "iopub.execute_input": "2021-06-15T14:24:32.115642Z",
     "iopub.status.busy": "2021-06-15T14:24:32.114501Z",
     "iopub.status.idle": "2021-06-15T14:24:32.124782Z",
     "shell.execute_reply": "2021-06-15T14:24:32.124242Z",
     "shell.execute_reply.started": "2021-06-15T14:23:07.271912Z"
    },
    "papermill": {
     "duration": 0.049964,
     "end_time": "2021-06-15T14:24:32.124968",
     "exception": false,
     "start_time": "2021-06-15T14:24:32.075004",
     "status": "completed"
    },
    "tags": []
   },
   "outputs": [
    {
     "data": {
      "text/plain": [
       "array([[ 0.82737724, -0.50244517, -0.73769513, ..., -0.82358549,\n",
       "        -1.34122811, -1.2316449 ],\n",
       "       [-1.56610693,  0.78684529,  1.35557354, ...,  0.21287591,\n",
       "         1.36043182, -1.2316449 ],\n",
       "       [ 0.82737724, -0.48885426,  1.35557354, ..., -0.82358549,\n",
       "        -0.4406748 ,  0.81192233],\n",
       "       ...,\n",
       "       [ 0.82737724, -0.17626324,  1.35557354, ...,  0.21287591,\n",
       "         0.45987851, -1.2316449 ],\n",
       "       [-1.56610693, -0.04438104, -0.73769513, ..., -0.82358549,\n",
       "         0.45987851,  0.81192233],\n",
       "       [ 0.82737724, -0.49237783, -0.73769513, ...,  0.21287591,\n",
       "        -1.34122811,  0.81192233]])"
      ]
     },
     "execution_count": 23,
     "metadata": {},
     "output_type": "execute_result"
    }
   ],
   "source": [
    "from sklearn.preprocessing import StandardScaler\n",
    "slr = StandardScaler()\n",
    "train_std = slr.fit_transform(X_train)\n",
    "train_std"
   ]
  },
  {
   "cell_type": "markdown",
   "id": "beneficial-recommendation",
   "metadata": {
    "papermill": {
     "duration": 0.031384,
     "end_time": "2021-06-15T14:24:32.187987",
     "exception": false,
     "start_time": "2021-06-15T14:24:32.156603",
     "status": "completed"
    },
    "tags": []
   },
   "source": [
    "# Building predictive model"
   ]
  },
  {
   "cell_type": "code",
   "execution_count": 24,
   "id": "lovely-delay",
   "metadata": {
    "execution": {
     "iopub.execute_input": "2021-06-15T14:24:32.259433Z",
     "iopub.status.busy": "2021-06-15T14:24:32.258326Z",
     "iopub.status.idle": "2021-06-15T14:24:32.459853Z",
     "shell.execute_reply": "2021-06-15T14:24:32.459282Z",
     "shell.execute_reply.started": "2021-06-15T14:23:07.290353Z"
    },
    "papermill": {
     "duration": 0.240097,
     "end_time": "2021-06-15T14:24:32.460028",
     "exception": false,
     "start_time": "2021-06-15T14:24:32.219931",
     "status": "completed"
    },
    "tags": []
   },
   "outputs": [
    {
     "data": {
      "text/plain": [
       "0.7957351290684624"
      ]
     },
     "execution_count": 24,
     "metadata": {},
     "output_type": "execute_result"
    }
   ],
   "source": [
    "from sklearn.linear_model import LogisticRegression\n",
    "lr = LogisticRegression()\n",
    "model = lr.fit(train_std, train_y)\n",
    "model.score(train_std, train_y)"
   ]
  },
  {
   "cell_type": "markdown",
   "id": "common-memorabilia",
   "metadata": {
    "papermill": {
     "duration": 0.031565,
     "end_time": "2021-06-15T14:24:32.523374",
     "exception": false,
     "start_time": "2021-06-15T14:24:32.491809",
     "status": "completed"
    },
    "tags": []
   },
   "source": [
    "# Create submission file"
   ]
  },
  {
   "cell_type": "code",
   "execution_count": 25,
   "id": "alien-therapy",
   "metadata": {
    "execution": {
     "iopub.execute_input": "2021-06-15T14:24:32.596693Z",
     "iopub.status.busy": "2021-06-15T14:24:32.595991Z",
     "iopub.status.idle": "2021-06-15T14:24:32.599532Z",
     "shell.execute_reply": "2021-06-15T14:24:32.598989Z",
     "shell.execute_reply.started": "2021-06-15T14:23:07.312358Z"
    },
    "papermill": {
     "duration": 0.044325,
     "end_time": "2021-06-15T14:24:32.599696",
     "exception": false,
     "start_time": "2021-06-15T14:24:32.555371",
     "status": "completed"
    },
    "tags": []
   },
   "outputs": [],
   "source": [
    "test_std = slr.transform(X_test)\n",
    "y_pred = model.predict(test_std).astype(int)"
   ]
  },
  {
   "cell_type": "code",
   "execution_count": 26,
   "id": "ready-multimedia",
   "metadata": {
    "execution": {
     "iopub.execute_input": "2021-06-15T14:24:32.670404Z",
     "iopub.status.busy": "2021-06-15T14:24:32.669724Z",
     "iopub.status.idle": "2021-06-15T14:24:32.678186Z",
     "shell.execute_reply": "2021-06-15T14:24:32.677576Z",
     "shell.execute_reply.started": "2021-06-15T14:23:07.320467Z"
    },
    "papermill": {
     "duration": 0.04694,
     "end_time": "2021-06-15T14:24:32.678348",
     "exception": false,
     "start_time": "2021-06-15T14:24:32.631408",
     "status": "completed"
    },
    "tags": []
   },
   "outputs": [],
   "source": [
    "submission = pd.DataFrame({\n",
    "    'PassengerId' : test['PassengerId'],\n",
    "    'Survived' : y_pred\n",
    "})\n",
    "submission.to_csv('submission.csv', index=False)"
   ]
  },
  {
   "cell_type": "code",
   "execution_count": null,
   "id": "provincial-complex",
   "metadata": {
    "papermill": {
     "duration": 0.032619,
     "end_time": "2021-06-15T14:24:32.743291",
     "exception": false,
     "start_time": "2021-06-15T14:24:32.710672",
     "status": "completed"
    },
    "tags": []
   },
   "outputs": [],
   "source": []
  }
 ],
 "metadata": {
  "kernelspec": {
   "display_name": "Python 3",
   "language": "python",
   "name": "python3"
  },
  "language_info": {
   "codemirror_mode": {
    "name": "ipython",
    "version": 3
   },
   "file_extension": ".py",
   "mimetype": "text/x-python",
   "name": "python",
   "nbconvert_exporter": "python",
   "pygments_lexer": "ipython3",
   "version": "3.7.10"
  },
  "papermill": {
   "default_parameters": {},
   "duration": 15.024034,
   "end_time": "2021-06-15T14:24:34.240753",
   "environment_variables": {},
   "exception": null,
   "input_path": "__notebook__.ipynb",
   "output_path": "__notebook__.ipynb",
   "parameters": {},
   "start_time": "2021-06-15T14:24:19.216719",
   "version": "2.3.3"
  }
 },
 "nbformat": 4,
 "nbformat_minor": 5
}
